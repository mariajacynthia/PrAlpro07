{
 "cells": [
  {
   "cell_type": "code",
   "execution_count": 9,
   "metadata": {},
   "outputs": [
    {
     "name": "stdout",
     "output_type": "stream",
     "text": [
      "apa dan apa adalah anagram.\n"
     ]
    }
   ],
   "source": [
    "#7-1\n",
    "def anagram(kata, kata1):\n",
    "    urutan1 = sorted(kata.lower())\n",
    "    urutan2 = sorted(kata1.lower())\n",
    "    \n",
    "    return urutan1 == urutan2\n",
    "\n",
    "kata = str(input(\"masukkan kata pertama: \"))\n",
    "kata1 = str(input(\"masukkan kata kedua: \"))\n",
    "\n",
    "if anagram(kata, kata1):\n",
    "    print(f\"{kata} dan {kata1} adalah anagram.\")\n",
    "else:\n",
    "    print(f\"{kata} dan {kata1} bukan anagram.\")"
   ]
  },
  {
   "cell_type": "code",
   "execution_count": 13,
   "metadata": {},
   "outputs": [
    {
     "name": "stdout",
     "output_type": "stream",
     "text": [
      "Kata 'lapar' ada 2 buah dalam kalimat 'kenapa sekarang aku lapar lapar tapi aku sekarang kenapa'.\n"
     ]
    }
   ],
   "source": [
    "#7-2\n",
    "def frekuensikata(kal, kata):\n",
    "    kal = kal.lower()\n",
    "    kata = kata.lower()\n",
    "    \n",
    "    kata2 = kal.split()\n",
    "    frek = kata2.count(kata)\n",
    "    \n",
    "    return frek\n",
    "\n",
    "kal = str(input(\"masukkan kalimat: \"))\n",
    "kata = input(\"masukkan kata yang ingin dihitung frekuensinya: \")\n",
    "\n",
    "frek = frekuensikata(kal, kata)\n",
    "print(f\"kata '{kata}' ada {frek} buah dalam kalimat '{kal}'.\")\n"
   ]
  },
  {
   "cell_type": "code",
   "execution_count": 15,
   "metadata": {},
   "outputs": [
    {
     "name": "stdout",
     "output_type": "stream",
     "text": [
      "hai halo halo hai halo hai halo hai\n"
     ]
    }
   ],
   "source": [
    "#7-3\n",
    "def hapusspasi(kal):\n",
    "    return ' '.join(kal.split())\n",
    "\n",
    "#test case\n",
    "kal = str(input(\"masukkan kalimat: \"))\n",
    "hasil = hapusspasi(kal)\n",
    "print(hasil)"
   ]
  },
  {
   "cell_type": "code",
   "execution_count": 20,
   "metadata": {},
   "outputs": [
    {
     "name": "stdout",
     "output_type": "stream",
     "text": [
      "kata terpendek: ia dan kata terpanjang: tampak, dari kalimat 'hari ini ia tampak sangat rapih nan bagus'.\n"
     ]
    }
   ],
   "source": [
    "#7-4\n",
    "def pendekpanjang(kal):\n",
    "    kata = kal.lower().split()\n",
    "    \n",
    "    terpendek = min(kata, key=len)\n",
    "    terpanjang = max(kata, key=len)\n",
    "    \n",
    "    return terpendek, terpanjang\n",
    "\n",
    "kal = str(input(\"masukkan kalimat: \"))\n",
    "pendek, panjang = pendekpanjang(kal)\n",
    "print(f\"kata terpendek: {pendek} dan kata terpanjang: {panjang}, dari kalimat '{kal}'.\")\n"
   ]
  }
 ],
 "metadata": {
  "kernelspec": {
   "display_name": "Python 3",
   "language": "python",
   "name": "python3"
  },
  "language_info": {
   "codemirror_mode": {
    "name": "ipython",
    "version": 3
   },
   "file_extension": ".py",
   "mimetype": "text/x-python",
   "name": "python",
   "nbconvert_exporter": "python",
   "pygments_lexer": "ipython3",
   "version": "3.12.0"
  }
 },
 "nbformat": 4,
 "nbformat_minor": 2
}
